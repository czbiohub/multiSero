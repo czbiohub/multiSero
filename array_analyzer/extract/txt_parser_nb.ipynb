{
 "cells": [
  {
   "cell_type": "code",
   "execution_count": 1,
   "metadata": {
    "pycharm": {
     "is_executing": false
    }
   },
   "outputs": [],
   "source": [
    "import skimage as ski\n",
    "import numpy as np\n",
    "import openpyxl as xl\n",
    "import csv\n",
    "import os\n",
    "import xmltodict"
   ]
  },
  {
   "cell_type": "code",
   "execution_count": 2,
   "metadata": {
    "pycharm": {
     "is_executing": false,
     "name": "#%%\n"
    }
   },
   "outputs": [
    {
     "data": {
      "text/plain": [
       "'\\nfor this typical ETL pattern, this notebook explores EXTRACT\\n\\n'"
      ]
     },
     "execution_count": 2,
     "metadata": {},
     "output_type": "execute_result"
    }
   ],
   "source": [
    "\n",
    "\"\"\"\n",
    "for this typical ETL pattern, this notebook explores EXTRACT\n",
    "\n",
    "\"\"\""
   ]
  },
  {
   "cell_type": "code",
   "execution_count": 4,
   "metadata": {
    "pycharm": {
     "is_executing": false,
     "name": "#%%\n"
    }
   },
   "outputs": [],
   "source": [
    "plate1_path='/Volumes/GoogleDrive/My Drive/ELISAarrayReader/images_scienion/2020-01-15_plate4_AEP_Feb3_6mousesera'\n",
    "# plate1_path = 'Plates_given_to_manu/2020-01-15_plate4_AEP_Feb3_6mousesera'\n",
    "plate1_gal = plate1_path+os.sep+'8x6_test.gal'\n",
    "plate1_xml = plate1_path+os.sep+'8x6_test.conf.xml'\n"
   ]
  },
  {
   "cell_type": "code",
   "execution_count": 3,
   "metadata": {
    "collapsed": true,
    "pycharm": {
     "is_executing": false,
     "name": "#%%\n"
    }
   },
   "outputs": [
    {
     "name": "stdout",
     "output_type": "stream",
     "text": [
      "['ATF', '1.0']\n",
      "['5', '5']\n",
      "['Type=GenePix ArrayList V1.0']\n",
      "['BlockCount=1']\n",
      "['BlockType=0']\n",
      "['Supplier=Scienion AG']\n",
      "['Block1= 1100, 1100, 200, 8, 405, 6, 410']\n",
      "['Block', 'Row', 'Column', 'ID', 'Name']\n",
      "['1', '1', '1', 'Marker', 'Marker']\n",
      "['1', '2', '1', 'Marker', 'Marker']\n",
      "['1', '3', '1', 'spot', 'spot']\n",
      "['1', '4', '1', 'spot', 'spot']\n",
      "['1', '5', '1', 'spot', 'spot']\n",
      "['1', '6', '1', 'Marker', 'Marker']\n",
      "['1', '1', '2', 'spot', 'spot']\n",
      "['1', '2', '2', 'spot', 'spot']\n",
      "['1', '3', '2', 'spot', 'spot']\n",
      "['1', '4', '2', 'spot', 'spot']\n",
      "['1', '5', '2', 'spot', 'spot']\n",
      "['1', '6', '2', 'spot', 'spot']\n",
      "['1', '1', '3', 'spot', 'spot']\n",
      "['1', '2', '3', 'spot', 'spot']\n",
      "['1', '3', '3', 'spot', 'spot']\n",
      "['1', '4', '3', 'spot', 'spot']\n",
      "['1', '5', '3', 'spot', 'spot']\n",
      "['1', '6', '3', 'spot', 'spot']\n",
      "['1', '1', '4', 'spot', 'spot']\n",
      "['1', '2', '4', 'spot', 'spot']\n",
      "['1', '3', '4', 'spot', 'spot']\n",
      "['1', '4', '4', 'spot', 'spot']\n",
      "['1', '5', '4', 'spot', 'spot']\n",
      "['1', '6', '4', 'spot', 'spot']\n",
      "['1', '1', '5', 'spot', 'spot']\n",
      "['1', '2', '5', 'spot', 'spot']\n",
      "['1', '3', '5', 'spot', 'spot']\n",
      "['1', '4', '5', 'spot', 'spot']\n",
      "['1', '5', '5', 'spot', 'spot']\n",
      "['1', '6', '5', 'spot', 'spot']\n",
      "['1', '1', '6', 'spot', 'spot']\n",
      "['1', '2', '6', 'spot', 'spot']\n",
      "['1', '3', '6', 'spot', 'spot']\n",
      "['1', '4', '6', 'spot', 'spot']\n",
      "['1', '5', '6', 'spot', 'spot']\n",
      "['1', '6', '6', 'spot', 'spot']\n",
      "['1', '1', '7', 'spot', 'spot']\n",
      "['1', '2', '7', 'spot', 'spot']\n",
      "['1', '3', '7', 'spot', 'spot']\n",
      "['1', '4', '7', 'spot', 'spot']\n",
      "['1', '5', '7', 'spot', 'spot']\n",
      "['1', '6', '7', 'spot', 'spot']\n",
      "['1', '1', '8', 'Marker', 'Marker']\n",
      "['1', '2', '8', 'Marker', 'Marker']\n",
      "['1', '3', '8', 'spot', 'spot']\n",
      "['1', '4', '8', 'spot', 'spot']\n",
      "['1', '5', '8', 'Marker', 'Marker']\n",
      "['1', '6', '8', 'Marker', 'Marker']\n"
     ]
    }
   ],
   "source": [
    "\"\"\"\n",
    "explore the .gal file\n",
    "\"\"\"\n",
    "# explore the data format, delimiter type\n",
    "with open(plate1_gal, newline='') as csv_file:\n",
    "    csv_reader = csv.reader(csv_file, delimiter='\\t')\n",
    "    for row in csv_reader:\n",
    "        print(row)"
   ]
  },
  {
   "cell_type": "code",
   "execution_count": 4,
   "metadata": {
    "pycharm": {
     "is_executing": false,
     "name": "#%%\n"
    }
   },
   "outputs": [],
   "source": [
    "\n",
    "# block starts as list, then will be cast to numpy array\n",
    "with open(plate1_gal, newline='') as csv_file:\n",
    "    csv_reader = csv.reader(csv_file, delimiter='\\t')\n",
    "    out_dict = {}\n",
    "    out_dict['Header'] = []\n",
    "    out_dict['Block'] = []\n",
    "    begin_block = False\n",
    "    for row in csv_reader:\n",
    "        if row[0] == 'Block':\n",
    "            begin_block = True\n",
    "        \n",
    "        # still reading header values\n",
    "        if not begin_block:\n",
    "            out_dict['Header'].append(row)\n",
    "            \n",
    "        # begin block (spot) mapping\n",
    "        if begin_block:\n",
    "            out_dict['Block'].append(row)"
   ]
  },
  {
   "cell_type": "code",
   "execution_count": 5,
   "metadata": {
    "collapsed": true,
    "pycharm": {
     "is_executing": false,
     "name": "#%%\n"
    }
   },
   "outputs": [
    {
     "data": {
      "text/plain": [
       "[['Block', 'Row', 'Column', 'ID', 'Name'],\n",
       " ['1', '1', '1', 'Marker', 'Marker'],\n",
       " ['1', '2', '1', 'Marker', 'Marker'],\n",
       " ['1', '3', '1', 'spot', 'spot'],\n",
       " ['1', '4', '1', 'spot', 'spot'],\n",
       " ['1', '5', '1', 'spot', 'spot'],\n",
       " ['1', '6', '1', 'Marker', 'Marker'],\n",
       " ['1', '1', '2', 'spot', 'spot'],\n",
       " ['1', '2', '2', 'spot', 'spot'],\n",
       " ['1', '3', '2', 'spot', 'spot'],\n",
       " ['1', '4', '2', 'spot', 'spot'],\n",
       " ['1', '5', '2', 'spot', 'spot'],\n",
       " ['1', '6', '2', 'spot', 'spot'],\n",
       " ['1', '1', '3', 'spot', 'spot'],\n",
       " ['1', '2', '3', 'spot', 'spot'],\n",
       " ['1', '3', '3', 'spot', 'spot'],\n",
       " ['1', '4', '3', 'spot', 'spot'],\n",
       " ['1', '5', '3', 'spot', 'spot'],\n",
       " ['1', '6', '3', 'spot', 'spot'],\n",
       " ['1', '1', '4', 'spot', 'spot'],\n",
       " ['1', '2', '4', 'spot', 'spot'],\n",
       " ['1', '3', '4', 'spot', 'spot'],\n",
       " ['1', '4', '4', 'spot', 'spot'],\n",
       " ['1', '5', '4', 'spot', 'spot'],\n",
       " ['1', '6', '4', 'spot', 'spot'],\n",
       " ['1', '1', '5', 'spot', 'spot'],\n",
       " ['1', '2', '5', 'spot', 'spot'],\n",
       " ['1', '3', '5', 'spot', 'spot'],\n",
       " ['1', '4', '5', 'spot', 'spot'],\n",
       " ['1', '5', '5', 'spot', 'spot'],\n",
       " ['1', '6', '5', 'spot', 'spot'],\n",
       " ['1', '1', '6', 'spot', 'spot'],\n",
       " ['1', '2', '6', 'spot', 'spot'],\n",
       " ['1', '3', '6', 'spot', 'spot'],\n",
       " ['1', '4', '6', 'spot', 'spot'],\n",
       " ['1', '5', '6', 'spot', 'spot'],\n",
       " ['1', '6', '6', 'spot', 'spot'],\n",
       " ['1', '1', '7', 'spot', 'spot'],\n",
       " ['1', '2', '7', 'spot', 'spot'],\n",
       " ['1', '3', '7', 'spot', 'spot'],\n",
       " ['1', '4', '7', 'spot', 'spot'],\n",
       " ['1', '5', '7', 'spot', 'spot'],\n",
       " ['1', '6', '7', 'spot', 'spot'],\n",
       " ['1', '1', '8', 'Marker', 'Marker'],\n",
       " ['1', '2', '8', 'Marker', 'Marker'],\n",
       " ['1', '3', '8', 'spot', 'spot'],\n",
       " ['1', '4', '8', 'spot', 'spot'],\n",
       " ['1', '5', '8', 'Marker', 'Marker'],\n",
       " ['1', '6', '8', 'Marker', 'Marker']]"
      ]
     },
     "execution_count": 5,
     "metadata": {},
     "output_type": "execute_result"
    }
   ],
   "source": [
    "out_dict['Block']\n"
   ]
  },
  {
   "cell_type": "code",
   "execution_count": 6,
   "metadata": {
    "pycharm": {
     "is_executing": false,
     "name": "#%%\n"
    }
   },
   "outputs": [],
   "source": [
    "# parse the index for various header values\n",
    "# ['Block', 'Row', 'Column', 'ID', 'Name']\n",
    "row_idx = [int(idx) for idx, value in enumerate(out_dict['Block'][0]) if value == 'Row'][0]\n",
    "col_idx = [int(idx) for idx, value in enumerate(out_dict['Block'][0]) if value == 'Column'][0]\n",
    "id_idx = [int(idx) for idx, value in enumerate(out_dict['Block'][0]) if value == 'ID'][0]\n",
    "name_idx = [int(idx) for idx, value in enumerate(out_dict['Block'][0]) if value == 'Name'][0]\n"
   ]
  },
  {
   "cell_type": "code",
   "execution_count": 7,
   "metadata": {
    "pycharm": {
     "is_executing": false,
     "name": "#%%\n"
    }
   },
   "outputs": [],
   "source": [
    "# find the max rows and cols\n",
    "max_row = 0\n",
    "max_col = 0\n",
    "for spot in out_dict['Block'][1:]:\n",
    "    if max_row < int(spot[row_idx]):\n",
    "        max_row = int(spot[row_idx])\n",
    "    if max_col < int(spot[col_idx]):\n",
    "        max_col = int(spot[col_idx])\n",
    "\n",
    "gal_spot_array_list_ID = [[[None] for i in range(max_col)] for j in range(max_row)]\n",
    "gal_spot_array_numpy_ID = np.empty(shape=(max_row, max_col), dtype=np.dtype('U100'))\n",
    "\n",
    "gal_spot_array_list_Name = [[[None] for i in range(max_col)] for j in range(max_row)]\n",
    "gal_spot_array_numpy_Name = np.empty(shape=(max_row, max_col), dtype=np.dtype('U100'))\n"
   ]
  },
  {
   "cell_type": "code",
   "execution_count": 8,
   "metadata": {
    "pycharm": {
     "is_executing": false,
     "name": "#%%\n"
    }
   },
   "outputs": [],
   "source": [
    "\n",
    "for spot in out_dict['Block'][1:]:\n",
    "    r = int(spot[row_idx])-1\n",
    "    c = int(spot[col_idx])-1\n",
    "    ID = spot[id_idx]\n",
    "    name = spot[name_idx]\n",
    "    \n",
    "    gal_spot_array_list_ID[r][c] = ID\n",
    "    gal_spot_array_numpy_ID[r, c] = ID\n",
    "    \n",
    "    gal_spot_array_list_Name[r][c] = name\n",
    "    gal_spot_array_numpy_Name[r, c] = name\n"
   ]
  },
  {
   "cell_type": "code",
   "execution_count": 5,
   "metadata": {
    "pycharm": {
     "is_executing": false,
     "name": "#%%\n"
    }
   },
   "outputs": [],
   "source": [
    "\"\"\"\n",
    "explore the .xml file\n",
    "\"\"\"\n",
    "\n",
    "# xmltodict is much easier to use and translate than xml.dom.minidom\n",
    "with open(plate1_xml) as fd:\n",
    "    doc = xmltodict.parse(fd.read())\n",
    "\n",
    "# layout of array\n",
    "layout = doc['configuration']['well_configurations']['configuration']['array']['layout']\n",
    "# fiducials\n",
    "fiduc = layout['marker']\n",
    "\n",
    "# spot IDs\n",
    "spots = doc['configuration']['well_configurations']['configuration']['array']['spots']['spot']\n",
    "\n",
    "# replicates\n",
    "repl = doc['configuration']['well_configurations']['configuration']['array']['spots']['multiplet']\n"
   ]
  },
  {
   "cell_type": "code",
   "execution_count": 6,
   "metadata": {
    "pycharm": {
     "is_executing": false,
     "name": "#%%\n"
    }
   },
   "outputs": [],
   "source": [
    "rows = int(layout['@rows'])\n",
    "columns = int(layout['@cols'])\n",
    "v_pitch = float(layout['@vspace'])\n",
    "h_pitch = float(layout['@hspace'])\n",
    "spot_width = float(layout['@expected_diameter'])\n",
    "bg_offset = float(layout['@background_offset'])\n",
    "bg_thickness = float(layout['@background_thickness'])\n",
    "max_diam = float(layout['@max_diameter'])\n",
    "min_diam = float(layout['@min_diameter'])"
   ]
  },
  {
   "cell_type": "code",
   "execution_count": 7,
   "metadata": {
    "pycharm": {
     "is_executing": false,
     "name": "#%%\n"
    }
   },
   "outputs": [],
   "source": [
    "\n",
    "# xml_spot_array_list = [[[None] for i in range(columns)] for j in range(rows)]\n",
    "xml_spot_array_numpy = np.empty(shape=(rows, columns), dtype=np.dtype('U100'))\n",
    "\n",
    "# xml_spot_array_list_ID = [[[None] for i in range(columns)] for j in range(rows)]\n",
    "xml_spot_array_numpy_ID = np.empty(shape=(rows, columns), dtype=np.dtype('U100'))\n",
    "\n",
    "# xml_spot_array_list_antigen = [[[None] for i in range(columns)] for j in range(rows)]\n",
    "xml_spot_array_numpy_antigen = np.empty(shape=(rows, columns), dtype=np.dtype('U100'))"
   ]
  },
  {
   "cell_type": "code",
   "execution_count": 8,
   "metadata": {
    "pycharm": {
     "is_executing": false,
     "name": "#%%\n"
    }
   },
   "outputs": [],
   "source": [
    "\n",
    "for spot in spots:\n",
    "    r = int(spot['@row'])\n",
    "    c = int(spot['@col'])\n",
    "    v = spot['@spot_type']\n",
    "    ID = spot['@id']\n",
    "    \n",
    "    xml_spot_array_list[r][c] = v\n",
    "    xml_spot_array_numpy[r,c] = v\n",
    "    \n",
    "    xml_spot_array_list_ID[r][c] = ID\n",
    "    xml_spot_array_numpy_ID[r,c] = ID\n",
    "\n",
    "for f in fiduc:\n",
    "    r = int(f['@row'])\n",
    "    c = int(f['@col'])\n",
    "    v = f['@spot_type']\n",
    "    # fiduc do not have \"ID\"\n",
    "\n",
    "    xml_spot_array_list[r][c] = v\n",
    "    xml_spot_array_numpy[r,c] = v\n"
   ]
  },
  {
   "cell_type": "code",
   "execution_count": 13,
   "metadata": {},
   "outputs": [
    {
     "data": {
      "text/plain": [
       "array([['Reference, Diagnostic', 'Diagnostic', 'Diagnostic',\n",
       "        'Diagnostic', 'Diagnostic', 'Diagnostic', 'Diagnostic',\n",
       "        'Reference, Diagnostic'],\n",
       "       ['Reference, Diagnostic', 'Diagnostic', 'Diagnostic',\n",
       "        'Diagnostic', 'Diagnostic', 'Diagnostic', 'Diagnostic',\n",
       "        'Reference, PositiveControl'],\n",
       "       ['Diagnostic', 'Diagnostic', 'Diagnostic', 'Diagnostic',\n",
       "        'Diagnostic', 'Diagnostic', 'Diagnostic', 'Diagnostic'],\n",
       "       ['Diagnostic', 'Diagnostic', 'Diagnostic', 'Diagnostic',\n",
       "        'Diagnostic', 'Diagnostic', 'Diagnostic', 'Diagnostic'],\n",
       "       ['Diagnostic', 'Diagnostic', 'Diagnostic', 'Diagnostic',\n",
       "        'Diagnostic', 'Diagnostic', 'Diagnostic',\n",
       "        'Reference, NegativeControl'],\n",
       "       ['Reference, Diagnostic', 'Diagnostic', 'Diagnostic',\n",
       "        'Diagnostic', 'Diagnostic', 'Diagnostic', 'Diagnostic',\n",
       "        'Reference, Diagnostic']], dtype='<U100')"
      ]
     },
     "execution_count": 13,
     "metadata": {},
     "output_type": "execute_result"
    }
   ],
   "source": [
    "xml_spot_array_numpy"
   ]
  },
  {
   "cell_type": "code",
   "execution_count": 9,
   "metadata": {
    "pycharm": {
     "is_executing": false,
     "name": "#%%\n"
    }
   },
   "outputs": [],
   "source": [
    "\n",
    "# walk through the replicates and assign the repl @id to the array\n",
    "# 1) iterate repl\n",
    "# 2) extract all_ids (not @id), extract antigen (@id)\n",
    "# 3) find cells that correspond to each in all_ids\n",
    "# 4) use the xml_spot_array_list_ID to assign by antigen to ID\n",
    "ids = xml_spot_array_numpy_ID\n",
    "anti = xml_spot_array_numpy_antigen\n",
    "\n",
    "for rep in repl:\n",
    "    antigen = rep['@id']\n",
    "    all_spots = rep['id'] # list of IDs\n",
    "    for spot in all_spots:\n",
    "        anti[np.where(ids==spot)] = antigen\n",
    "        \n",
    "xml_spot_array_numpy_antigen = anti"
   ]
  },
  {
   "cell_type": "code",
   "execution_count": 15,
   "metadata": {},
   "outputs": [
    {
     "data": {
      "text/plain": [
       "array([['', '114', '100', 'KZ52', 'c13C6', 'c2G4', 'c4G7', ''],\n",
       "       ['', '114', '100', 'KZ52', 'c13C6', 'c2G4', 'c4G7', ''],\n",
       "       ['anti-HIS tag', '15731', '15742', '15750', '15878', '15946',\n",
       "        '15960', 'Q411'],\n",
       "       ['anti-HIS tag', '15731', '15742', '15750', '15878', '15946',\n",
       "        '15960', 'Q411'],\n",
       "       ['anti-HIS tag', '15974', '16061', 'FVM04', 'VIC122', 'Q206',\n",
       "        'Q314', ''],\n",
       "       ['', '15974', '16061', 'FVM04', 'VIC122', 'Q206', 'Q314', '']],\n",
       "      dtype='<U100')"
      ]
     },
     "execution_count": 15,
     "metadata": {},
     "output_type": "execute_result"
    }
   ],
   "source": [
    "xml_spot_array_numpy_antigen"
   ]
  },
  {
   "cell_type": "code",
   "execution_count": 28,
   "metadata": {
    "pycharm": {
     "is_executing": false,
     "name": "#%%\n"
    }
   },
   "outputs": [
    {
     "data": {
      "text/plain": [
       "\"\\nThe above code should parse the two files (.gal, .xml) into two data formats:\\n.gal\\n    gal_spot_array_list_ID[r][c] = ID\\n    gal_spot_array_numpy_ID[r, c] = ID\\n    \\n    gal_spot_array_list_Name[r][c] = name\\n    gal_spot_array_numpy_Name[r, c] = name\\n    \\n.xml\\n    xml_spot_array_list[r][c] = spot type\\n    xml_spot_array_numpy[r,c] = spot type\\n    \\n    xml_spot_array_list_ID[r][c] = ID\\n    xml_spot_array_numpy_ID[r,c] = ID\\n    \\n    xml_spot_array_numpy_antigen = antigen\\n    \\nthe 'numpy' and 'list' forms are identical\\neach can be sliced and are indexed by row-column format\\neach has a value that is a simple string\\n\\nSo we can use the following three arrays to query control, ID name, and antigen name\\n\\n\""
      ]
     },
     "execution_count": 28,
     "metadata": {},
     "output_type": "execute_result"
    }
   ],
   "source": [
    "\"\"\"\n",
    "The above code should parse the two files (.gal, .xml) into two data formats:\n",
    ".gal\n",
    "    gal_spot_array_list_ID[r][c] = ID\n",
    "    gal_spot_array_numpy_ID[r, c] = ID\n",
    "    \n",
    "    gal_spot_array_list_Name[r][c] = name\n",
    "    gal_spot_array_numpy_Name[r, c] = name\n",
    "    \n",
    ".xml\n",
    "    xml_spot_array_list[r][c] = spot type\n",
    "    xml_spot_array_numpy[r,c] = spot type\n",
    "    \n",
    "    xml_spot_array_list_ID[r][c] = ID\n",
    "    xml_spot_array_numpy_ID[r,c] = ID\n",
    "    \n",
    "    xml_spot_array_numpy_antigen = antigen\n",
    "    \n",
    "the 'numpy' and 'list' forms are identical\n",
    "each can be sliced and are indexed by row-column format\n",
    "each has a value that is a simple string\n",
    "\n",
    "So we can use the following three arrays to query type, cell ID name, and antigen name\n",
    "    xml_spot_array_numpy\n",
    "    xml_spot_array_numpy_ID\n",
    "    xml_spot_array_numpy_antigen\n",
    "\n",
    "\"\"\""
   ]
  },
  {
   "cell_type": "code",
   "execution_count": 11,
   "metadata": {
    "pycharm": {
     "is_executing": false,
     "name": "#%%\n"
    }
   },
   "outputs": [
    {
     "data": {
      "text/plain": [
       "array([['', 'spot-1-2', 'spot-1-3', 'spot-1-4', 'spot-1-5', 'spot-1-6',\n",
       "        'spot-1-7', ''],\n",
       "       ['', 'spot-2-2', 'spot-2-3', 'spot-2-4', 'spot-2-5', 'spot-2-6',\n",
       "        'spot-2-7', 'spot-2-8'],\n",
       "       ['spot-3-1', 'spot-3-2', 'spot-3-3', 'spot-3-4', 'spot-3-5',\n",
       "        'spot-3-6', 'spot-3-7', 'spot-3-8'],\n",
       "       ['spot-4-1', 'spot-4-2', 'spot-4-3', 'spot-4-4', 'spot-4-5',\n",
       "        'spot-4-6', 'spot-4-7', 'spot-4-8'],\n",
       "       ['spot-5-1', 'spot-5-2', 'spot-5-3', 'spot-5-4', 'spot-5-5',\n",
       "        'spot-5-6', 'spot-5-7', 'spot-5-8'],\n",
       "       ['', 'spot-6-2', 'spot-6-3', 'spot-6-4', 'spot-6-5', 'spot-6-6',\n",
       "        'spot-6-7', '']], dtype='<U100')"
      ]
     },
     "execution_count": 11,
     "metadata": {},
     "output_type": "execute_result"
    }
   ],
   "source": [
    "ids"
   ]
  },
  {
   "cell_type": "code",
   "execution_count": 2,
   "metadata": {
    "pycharm": {
     "name": "#%%\n"
    }
   },
   "outputs": [
    {
     "ename": "NameError",
     "evalue": "name 'xml_spot_array_numpy_antigen' is not defined",
     "output_type": "error",
     "traceback": [
      "\u001b[0;31m---------------------------------------------------------------------------\u001b[0m",
      "\u001b[0;31mNameError\u001b[0m                                 Traceback (most recent call last)",
      "\u001b[0;32m<ipython-input-2-cf2845964f0d>\u001b[0m in \u001b[0;36m<module>\u001b[0;34m\u001b[0m\n\u001b[0;32m----> 1\u001b[0;31m \u001b[0mxml_spot_array_numpy_antigen\u001b[0m\u001b[0;34m.\u001b[0m\u001b[0mshape\u001b[0m\u001b[0;34m\u001b[0m\u001b[0;34m\u001b[0m\u001b[0m\n\u001b[0m",
      "\u001b[0;31mNameError\u001b[0m: name 'xml_spot_array_numpy_antigen' is not defined"
     ]
    }
   ],
   "source": [
    "xml_spot_array_numpy_antigen.shape\n"
   ]
  },
  {
   "cell_type": "code",
   "execution_count": null,
   "metadata": {},
   "outputs": [],
   "source": []
  }
 ],
 "metadata": {
  "kernelspec": {
   "display_name": "Python 3",
   "language": "python",
   "name": "python3"
  },
  "language_info": {
   "codemirror_mode": {
    "name": "ipython",
    "version": 3
   },
   "file_extension": ".py",
   "mimetype": "text/x-python",
   "name": "python",
   "nbconvert_exporter": "python",
   "pygments_lexer": "ipython3",
   "version": "3.7.6"
  },
  "pycharm": {
   "stem_cell": {
    "cell_type": "raw",
    "metadata": {
     "collapsed": false
    },
    "source": []
   }
  }
 },
 "nbformat": 4,
 "nbformat_minor": 1
}
