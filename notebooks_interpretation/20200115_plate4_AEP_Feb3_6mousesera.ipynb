{
 "cells": [
  {
   "cell_type": "code",
   "execution_count": 172,
   "metadata": {},
   "outputs": [],
   "source": [
    "from pprint import pprint\n",
    "import pandas as pd\n",
    "import matplotlib.pyplot as plt\n",
    "import numpy as np\n",
    "\n",
    "import matplotlib\n",
    "font = {'size'   : 16, 'weight' : 'normal', 'family' : 'arial'}\n",
    "matplotlib.rc('font', **font)"
   ]
  },
  {
   "cell_type": "markdown",
   "metadata": {},
   "source": [
    "# Experimental information"
   ]
  },
  {
   "cell_type": "markdown",
   "metadata": {},
   "source": [
    "*  xkappa biotin spots: these spots are coated with human kappa light chain conjugated to biotin, so that when the streptavidin-HRP is added there is strong signal independent of the serum content.  **We should not expect the fiducial signal to weaken with serial dilution.**\n",
    "*  anti-His tag spots: All of the recombinant proteins that are used to coat the plates have hexa-His tags cloned into them, and the coat protein in these spots is anti-His. In this experiment, all of the recombinant antigens were spotted here on the anti-His coated spot, then serum was added so that the spot is representative of a polyclonal response. There was more cross-reactivity than expected and **this control will not be used in the future covid plates.**"
   ]
  },
  {
   "cell_type": "markdown",
   "metadata": {},
   "source": [
    "# Data format conventions"
   ]
  },
  {
   "cell_type": "markdown",
   "metadata": {},
   "source": [
    "For ease of reading and manipulating data, all data is converted in $n$-dimensional arrays. \n",
    "* Well metadata is #wells $\\times$ 4 array. \n",
    "* antigen metadata is  #rows $\\times$ #columns in the array.\n",
    "* background corrected ODs is a 4D float array (Well row x Well column x Array row x Array column)."
   ]
  },
  {
   "cell_type": "markdown",
   "metadata": {},
   "source": [
    "# Read identity of wells and antigen spots in 2D arrays"
   ]
  },
  {
   "cell_type": "code",
   "execution_count": 9,
   "metadata": {},
   "outputs": [],
   "source": [
    "plateinfo_path=r'/Volumes/GoogleDrive/My Drive/ELISAarrayReader/images_scienion/Plates_given_to_manu/2020-01-15_plate4_AEP_Feb3_6mousesera/PlateInfo.csv'\n",
    "antigenOD_path=r'/Volumes/GoogleDrive/My Drive/ELISAarrayReader/images_scienion/Plates_given_to_manu/2020-01-15_plate4_AEP_Feb3_6mousesera/20200327_analyzedPlate/ODs_2020_328_1030.xlsx'"
   ]
  },
  {
   "cell_type": "code",
   "execution_count": 35,
   "metadata": {},
   "outputs": [
    {
     "name": "stdout",
     "output_type": "stream",
     "text": [
      "   Well     Sera ID              Type  Dilution\n",
      "0    A1     Mouse 1        Diagnostic      1:50\n",
      "1    A2     Mouse 1        Diagnostic      1:50\n",
      "2    A3     Mouse 2        Diagnostic      1:50\n",
      "3    A4     Mouse 2        Diagnostic      1:50\n",
      "4    A5     Mouse 3        Diagnostic      1:50\n",
      "..  ...         ...               ...       ...\n",
      "91   H8  MAb-biotin  control/standard   0.41 nM\n",
      "92   H9  MAb-biotin  control/standard  0.136 nM\n",
      "93  H10  MAb-biotin  control/standard  0.045 nM\n",
      "94  H11  MAb-biotin  control/standard  0.015 nM\n",
      "95  H12         NaN               NaN       NaN\n",
      "\n",
      "[96 rows x 4 columns]\n",
      "array([['A1', 'Mouse 1', 'Diagnostic', '1:50'],\n",
      "       ['A2', 'Mouse 1', 'Diagnostic', '1:50'],\n",
      "       ['A3', 'Mouse 2', 'Diagnostic', '1:50'],\n",
      "       ['A4', 'Mouse 2', 'Diagnostic', '1:50'],\n",
      "       ['A5', 'Mouse 3', 'Diagnostic', '1:50'],\n",
      "       ['A6', 'Mouse 3', 'Diagnostic', '1:50'],\n",
      "       ['A7', 'Mouse 4', 'Diagnostic', '1:50'],\n",
      "       ['A8', 'Mouse 4', 'Diagnostic', '1:50'],\n",
      "       ['A9', 'Mouse 5', 'Diagnostic', '1:50'],\n",
      "       ['A10', 'Mouse 5', 'Diagnostic', '1:50'],\n",
      "       ['A11', 'Mouse 6', 'Diagnostic', '1:50'],\n",
      "       ['A12', 'Mouse 6', 'Diagnostic', '1:50'],\n",
      "       ['B1', 'Mouse 1', 'Diagnostic', '1:250'],\n",
      "       ['B2', 'Mouse 1', 'Diagnostic', '1:250'],\n",
      "       ['B3', 'Mouse 2', 'Diagnostic', '1:250'],\n",
      "       ['B4', 'Mouse 2', 'Diagnostic', '1:250'],\n",
      "       ['B5', 'Mouse 3', 'Diagnostic', '1:250'],\n",
      "       ['B6', 'Mouse 3', 'Diagnostic', '1:250'],\n",
      "       ['B7', 'Mouse 4', 'Diagnostic', '1:250'],\n",
      "       ['B8', 'Mouse 4', 'Diagnostic', '1:250'],\n",
      "       ['B9', 'Mouse 5', 'Diagnostic', '1:250'],\n",
      "       ['B10', 'Mouse 5', 'Diagnostic', '1:250'],\n",
      "       ['B11', 'Mouse 6', 'Diagnostic', '1:250'],\n",
      "       ['B12', 'Mouse 6', 'Diagnostic', '1:250'],\n",
      "       ['C1', 'Mouse 1', 'Diagnostic', '1:1250'],\n",
      "       ['C2', 'Mouse 1', 'Diagnostic', '1:1250'],\n",
      "       ['C3', 'Mouse 2', 'Diagnostic', '1:1250'],\n",
      "       ['C4', 'Mouse 2', 'Diagnostic', '1:1250'],\n",
      "       ['C5', 'Mouse 3', 'Diagnostic', '1:1250'],\n",
      "       ['C6', 'Mouse 3', 'Diagnostic', '1:1250'],\n",
      "       ['C7', 'Mouse 4', 'Diagnostic', '1:1250'],\n",
      "       ['C8', 'Mouse 4', 'Diagnostic', '1:1250'],\n",
      "       ['C9', 'Mouse 5', 'Diagnostic', '1:1250'],\n",
      "       ['C10', 'Mouse 5', 'Diagnostic', '1:1250'],\n",
      "       ['C11', 'Mouse 6', 'Diagnostic', '1:1250'],\n",
      "       ['C12', 'Mouse 6', 'Diagnostic', '1:1250'],\n",
      "       ['D1', 'Mouse 1', 'Diagnostic', '1:6250'],\n",
      "       ['D2', 'Mouse 1', 'Diagnostic', '1:6250'],\n",
      "       ['D3', 'Mouse 2', 'Diagnostic', '1:6250'],\n",
      "       ['D4', 'Mouse 2', 'Diagnostic', '1:6250'],\n",
      "       ['D5', 'Mouse 3', 'Diagnostic', '1:6250'],\n",
      "       ['D6', 'Mouse 3', 'Diagnostic', '1:6250'],\n",
      "       ['D7', 'Mouse 4', 'Diagnostic', '1:6250'],\n",
      "       ['D8', 'Mouse 4', 'Diagnostic', '1:6250'],\n",
      "       ['D9', 'Mouse 5', 'Diagnostic', '1:6250'],\n",
      "       ['D10', 'Mouse 5', 'Diagnostic', '1:6250'],\n",
      "       ['D11', 'Mouse 6', 'Diagnostic', '1:6250'],\n",
      "       ['D12', 'Mouse 6', 'Diagnostic', '1:6250'],\n",
      "       ['E1', 'Mouse 1', 'Diagnostic', '1:31250'],\n",
      "       ['E2', 'Mouse 1', 'Diagnostic', '1:31250'],\n",
      "       ['E3', 'Mouse 2', 'Diagnostic', '1:31250'],\n",
      "       ['E4', 'Mouse 2', 'Diagnostic', '1:31250'],\n",
      "       ['E5', 'Mouse 3', 'Diagnostic', '1:31250'],\n",
      "       ['E6', 'Mouse 3', 'Diagnostic', '1:31250'],\n",
      "       ['E7', 'Mouse 4', 'Diagnostic', '1:31250'],\n",
      "       ['E8', 'Mouse 4', 'Diagnostic', '1:31250'],\n",
      "       ['E9', 'Mouse 5', 'Diagnostic', '1:31250'],\n",
      "       ['E10', 'Mouse 5', 'Diagnostic', '1:31250'],\n",
      "       ['E11', 'Mouse 6', 'Diagnostic', '1:31250'],\n",
      "       ['E12', 'Mouse 6', 'Diagnostic', '1:31250'],\n",
      "       ['F1', 'Mouse 1', 'Diagnostic', '1:156250'],\n",
      "       ['F2', 'Mouse 1', 'Diagnostic', '1:156250'],\n",
      "       ['F3', 'Mouse 2', 'Diagnostic', '1:156250'],\n",
      "       ['F4', 'Mouse 2', 'Diagnostic', '1:156250'],\n",
      "       ['F5', 'Mouse 3', 'Diagnostic', '1:156250'],\n",
      "       ['F6', 'Mouse 3', 'Diagnostic', '1:156250'],\n",
      "       ['F7', 'Mouse 4', 'Diagnostic', '1:156250'],\n",
      "       ['F8', 'Mouse 4', 'Diagnostic', '1:156250'],\n",
      "       ['F9', 'Mouse 5', 'Diagnostic', '1:156250'],\n",
      "       ['F10', 'Mouse 5', 'Diagnostic', '1:156250'],\n",
      "       ['F11', 'Mouse 6', 'Diagnostic', '1:156250'],\n",
      "       ['F12', 'Mouse 6', 'Diagnostic', '1:156250'],\n",
      "       ['G1', 'Mouse 1', 'Diagnostic', '1:781250'],\n",
      "       ['G2', 'Mouse 1', 'Diagnostic', '1:781250'],\n",
      "       ['G3', 'Mouse 2', 'Diagnostic', '1:781250'],\n",
      "       ['G4', 'Mouse 2', 'Diagnostic', '1:781250'],\n",
      "       ['G5', 'Mouse 3', 'Diagnostic', '1:781250'],\n",
      "       ['G6', 'Mouse 3', 'Diagnostic', '1:781250'],\n",
      "       ['G7', 'Mouse 4', 'Diagnostic', '1:781250'],\n",
      "       ['G8', 'Mouse 4', 'Diagnostic', '1:781250'],\n",
      "       ['G9', 'Mouse 5', 'Diagnostic', '1:781250'],\n",
      "       ['G10', 'Mouse 5', 'Diagnostic', '1:781250'],\n",
      "       ['G11', 'Mouse 6', 'Diagnostic', '1:781250'],\n",
      "       ['G12', 'Mouse 6', 'Diagnostic', '1:781250'],\n",
      "       ['H1', nan, nan, nan],\n",
      "       ['H2', 'MAb-biotin', 'control/standard', '300 nM'],\n",
      "       ['H3', 'MAb-biotin', 'control/standard', '100 nM'],\n",
      "       ['H4', 'MAb-biotin', 'control/standard', '33.3 nM'],\n",
      "       ['H5', 'MAb-biotin', 'control/standard', '11.1 nM'],\n",
      "       ['H6', 'MAb-biotin', 'control/standard', '3.7 nM'],\n",
      "       ['H7', 'MAb-biotin', 'control/standard', '1.23 nM'],\n",
      "       ['H8', 'MAb-biotin', 'control/standard', '0.41 nM'],\n",
      "       ['H9', 'MAb-biotin', 'control/standard', '0.136 nM'],\n",
      "       ['H10', 'MAb-biotin', 'control/standard', '0.045 nM'],\n",
      "       ['H11', 'MAb-biotin', 'control/standard', '0.015 nM'],\n",
      "       ['H12', nan, nan, nan]], dtype=object)\n"
     ]
    }
   ],
   "source": [
    "plateinfo_dataframe=pd.read_csv(plateinfo_path)\n",
    "pprint(plateinfo_dataframe)\n",
    "plateInfo=plateinfo_dataframe.to_numpy()\n",
    "pprint(plateInfo)"
   ]
  },
  {
   "cell_type": "code",
   "execution_count": 11,
   "metadata": {},
   "outputs": [
    {
     "name": "stdout",
     "output_type": "stream",
     "text": [
      "array([['xkappa-biotin', '114', '100', 'KZ52', 'c13C6', 'c2G4', 'c4G7',\n",
      "        'xkappa-biotin'],\n",
      "       ['xkappa-biotin', '114', '100', 'KZ52', 'c13C6', 'c2G4', 'c4G7',\n",
      "        'xmouse-IgG'],\n",
      "       ['anti-HIS tag', '15731', '15742', '15750', '15878', '15946',\n",
      "        '15960', 'Q411'],\n",
      "       ['anti-HIS tag', '15731', '15742', '15750', '15878', '15946',\n",
      "        '15960', 'Q411'],\n",
      "       ['anti-HIS tag', '15974', '16061', 'FVM04', 'VIC122', 'Q206',\n",
      "        'Q314', 'GFP-foldon'],\n",
      "       ['xkappa-biotin', '15974', '16061', 'FVM04', 'VIC122', 'Q206',\n",
      "        'Q314', 'xkappa-biotin']], dtype=object)\n"
     ]
    }
   ],
   "source": [
    "converter = {col: str for col in range(0,7)}\n",
    "antigens_dataframe=pd.read_excel(antigenOD_path, sheet_name='antigens', converters=converter)\n",
    "antigens=antigens_dataframe.to_numpy()[:,1:] \n",
    "pprint(antigens)"
   ]
  },
  {
   "cell_type": "markdown",
   "metadata": {},
   "source": [
    "# Read ODs of all wells in a 4D array (Well row x Well column x Array row x Array column)"
   ]
  },
  {
   "cell_type": "markdown",
   "metadata": {},
   "source": [
    "## Read data"
   ]
  },
  {
   "cell_type": "code",
   "execution_count": 12,
   "metadata": {},
   "outputs": [],
   "source": [
    "row_label=['A','B','C','D','E','F','G','H']\n",
    "col_label=[str(idx) for idx in np.arange(12)+1]\n",
    "antigenOD=np.empty((8,12,6,8)) # 96 wells, 6 antigen rows, 8 antigen columns\n",
    "wellID=np.empty((8,12),dtype=object)"
   ]
  },
  {
   "cell_type": "code",
   "execution_count": 13,
   "metadata": {},
   "outputs": [],
   "source": [
    "# Read all wells into dictionary and into a 4D numpy array.\n",
    "for r in np.arange(8):\n",
    "    for c in np.arange(12):\n",
    "        well_key = row_label[r]+col_label[c]\n",
    "        antigenOD_dataframe=pd.read_excel(antigenOD_path, sheet_name=well_key)\n",
    "        antigenOD[r,c,:,:]=antigenOD_dataframe.to_numpy()[:,1:] # First column is simply the index. to_numpy returns 6x9 array.\n",
    "        wellID[r,c] = well_key"
   ]
  },
  {
   "cell_type": "markdown",
   "metadata": {},
   "source": [
    "## how to index the OD data."
   ]
  },
  {
   "cell_type": "markdown",
   "metadata": {},
   "source": [
    "#### direct indexing"
   ]
  },
  {
   "cell_type": "code",
   "execution_count": 14,
   "metadata": {},
   "outputs": [
    {
     "name": "stdout",
     "output_type": "stream",
     "text": [
      "array([[1.48690358, 2.29510727, 1.88054858, 2.58605292, 1.28097541,\n",
      "        2.65749052, 1.4895249 , 1.55835905],\n",
      "       [1.46043415, 1.85433613, 2.27518306, 2.74934729, 1.43469453,\n",
      "        2.05008816, 1.69365441, 3.02854479],\n",
      "       [3.58943717, 1.60508459, 2.58859898, 1.26907949, 5.79775172,\n",
      "        1.27786073, 1.82586891, 1.66100972],\n",
      "       [3.3421515 , 1.81320625, 2.73909223, 1.27429019, 2.60367051,\n",
      "        1.25637504, 2.31202412, 1.60264153],\n",
      "       [3.43131823, 2.24281023, 3.27112586, 2.11036309, 2.43932369,\n",
      "        2.12406351, 1.55815716, 4.61593211],\n",
      "       [1.46372823, 2.1719292 , 3.20397848, 2.05375365, 2.36963313,\n",
      "        2.01548414, 1.32053514, 1.4020999 ]])\n"
     ]
    }
   ],
   "source": [
    "pprint(antigenOD[0,0]) # Well A1"
   ]
  },
  {
   "cell_type": "code",
   "execution_count": 15,
   "metadata": {},
   "outputs": [
    {
     "name": "stdout",
     "output_type": "stream",
     "text": [
      "array([[1.43988273, 1.3451414 , 2.99774562, 1.21434209, 1.29873839,\n",
      "        1.08886344, 1.23414691, 1.61283121],\n",
      "       [1.44550936, 1.15400541, 2.96651674, 1.26165007, 1.09079668,\n",
      "        1.081295  , 1.06818851, 3.55750328],\n",
      "       [1.87884234, 1.28353302, 1.11147366, 1.20569399, 1.07842211,\n",
      "        1.03519571, 1.13637536, 1.10705243],\n",
      "       [1.93024336, 1.06879314, 1.16157532, 1.11076694, 1.08172383,\n",
      "        1.04190418, 1.11740187, 1.08562124],\n",
      "       [1.74705778, 1.05420597, 1.3725761 , 1.11878548, 1.1752757 ,\n",
      "        1.0787549 , 1.05155942, 1.00879728],\n",
      "       [1.44784659, 1.06575727, 1.30663138, 1.23790682, 1.07855464,\n",
      "        1.06769399, 1.05361099, 1.40577401]])\n"
     ]
    }
   ],
   "source": [
    "pprint(antigenOD[0,3]) # well A4"
   ]
  },
  {
   "cell_type": "markdown",
   "metadata": {},
   "source": [
    "#### logical indexing"
   ]
  },
  {
   "cell_type": "code",
   "execution_count": 16,
   "metadata": {},
   "outputs": [
    {
     "name": "stdout",
     "output_type": "stream",
     "text": [
      "array([[[1.43988273, 1.3451414 , 2.99774562, 1.21434209, 1.29873839,\n",
      "         1.08886344, 1.23414691, 1.61283121],\n",
      "        [1.44550936, 1.15400541, 2.96651674, 1.26165007, 1.09079668,\n",
      "         1.081295  , 1.06818851, 3.55750328],\n",
      "        [1.87884234, 1.28353302, 1.11147366, 1.20569399, 1.07842211,\n",
      "         1.03519571, 1.13637536, 1.10705243],\n",
      "        [1.93024336, 1.06879314, 1.16157532, 1.11076694, 1.08172383,\n",
      "         1.04190418, 1.11740187, 1.08562124],\n",
      "        [1.74705778, 1.05420597, 1.3725761 , 1.11878548, 1.1752757 ,\n",
      "         1.0787549 , 1.05155942, 1.00879728],\n",
      "        [1.44784659, 1.06575727, 1.30663138, 1.23790682, 1.07855464,\n",
      "         1.06769399, 1.05361099, 1.40577401]]])\n"
     ]
    }
   ],
   "source": [
    "pprint(antigenOD[wellID == 'A4'])"
   ]
  },
  {
   "cell_type": "code",
   "execution_count": 17,
   "metadata": {},
   "outputs": [
    {
     "name": "stdout",
     "output_type": "stream",
     "text": [
      "array([[[1.48690358, 2.29510727, 1.88054858, 2.58605292, 1.28097541,\n",
      "         2.65749052, 1.4895249 , 1.55835905],\n",
      "        [1.46043415, 1.85433613, 2.27518306, 2.74934729, 1.43469453,\n",
      "         2.05008816, 1.69365441, 3.02854479],\n",
      "        [3.58943717, 1.60508459, 2.58859898, 1.26907949, 5.79775172,\n",
      "         1.27786073, 1.82586891, 1.66100972],\n",
      "        [3.3421515 , 1.81320625, 2.73909223, 1.27429019, 2.60367051,\n",
      "         1.25637504, 2.31202412, 1.60264153],\n",
      "        [3.43131823, 2.24281023, 3.27112586, 2.11036309, 2.43932369,\n",
      "         2.12406351, 1.55815716, 4.61593211],\n",
      "        [1.46372823, 2.1719292 , 3.20397848, 2.05375365, 2.36963313,\n",
      "         2.01548414, 1.32053514, 1.4020999 ]]])\n"
     ]
    }
   ],
   "source": [
    "pprint(antigenOD[wellID == 'A1'])"
   ]
  },
  {
   "cell_type": "markdown",
   "metadata": {},
   "source": [
    "# Plot standard curve."
   ]
  },
  {
   "cell_type": "code",
   "execution_count": 142,
   "metadata": {},
   "outputs": [
    {
     "name": "stdout",
     "output_type": "stream",
     "text": [
      "array(['A1', 'A2', 'A3', 'A4', 'A5', 'A6', 'A7', 'A8', 'A9', 'A10', 'A11',\n",
      "       'A12', 'B1', 'B2', 'B3', 'B4', 'B5', 'B6', 'B7', 'B8', 'B9', 'B10',\n",
      "       'B11', 'B12', 'C1', 'C2', 'C3', 'C4', 'C5', 'C6', 'C7', 'C8', 'C9',\n",
      "       'C10', 'C11', 'C12', 'D1', 'D2', 'D3', 'D4', 'D5', 'D6', 'D7',\n",
      "       'D8', 'D9', 'D10', 'D11', 'D12', 'E1', 'E2', 'E3', 'E4', 'E5',\n",
      "       'E6', 'E7', 'E8', 'E9', 'E10', 'E11', 'E12', 'F1', 'F2', 'F3',\n",
      "       'F4', 'F5', 'F6', 'F7', 'F8', 'F9', 'F10', 'F11', 'F12', 'G1',\n",
      "       'G2', 'G3', 'G4', 'G5', 'G6', 'G7', 'G8', 'G9', 'G10', 'G11',\n",
      "       'G12', 'H1', 'H2', 'H3', 'H4', 'H5', 'H6', 'H7', 'H8', 'H9', 'H10',\n",
      "       'H11', 'H12'], dtype='<U3')\n",
      "array(['xkappa-biotin', '114', '100', 'KZ52', 'c13C6', 'c2G4', 'c4G7',\n",
      "       'xkappa-biotin', 'xkappa-biotin', '114', '100', 'KZ52', 'c13C6',\n",
      "       'c2G4', 'c4G7', 'xmouse-IgG', 'anti-HIS tag', '15731', '15742',\n",
      "       '15750', '15878', '15946', '15960', 'Q411', 'anti-HIS tag',\n",
      "       '15731', '15742', '15750', '15878', '15946', '15960', 'Q411',\n",
      "       'anti-HIS tag', '15974', '16061', 'FVM04', 'VIC122', 'Q206',\n",
      "       'Q314', 'GFP-foldon', 'xkappa-biotin', '15974', '16061', 'FVM04',\n",
      "       'VIC122', 'Q206', 'Q314', 'xkappa-biotin'], dtype=object)\n"
     ]
    }
   ],
   "source": [
    "# Prepare arrays for logical indexing.\n",
    "# Logical indexing works only for numpy array only not the standard python lists.\n",
    "\n",
    "wellIdx = np.array([row+str(col) for row in ['A','B','C','D','E','F','G','H'] for col in range(1,13)])\n",
    "wellmetaIdx=np.array(['Well','SeraID','Type','Concentration'])\n",
    "antigenIdx = antigens.flatten()\n",
    "\n",
    "# Transform antigenODs to wellxspot structure.\n",
    "ODwellbyantigen=antigenOD.reshape(len(wellIdx),len(antigenIdx))\n",
    "pprint(wellIdx)\n",
    "pprint(antigenIdx)"
   ]
  },
  {
   "cell_type": "markdown",
   "metadata": {},
   "source": [
    "## Find concentrations in control wells"
   ]
  },
  {
   "cell_type": "code",
   "execution_count": 133,
   "metadata": {},
   "outputs": [
    {
     "name": "stdout",
     "output_type": "stream",
     "text": [
      "array(['300 nM', '100 nM', '33.3 nM', '11.1 nM', '3.7 nM', '1.23 nM',\n",
      "       '0.41 nM', '0.136 nM', '0.045 nM', '0.015 nM'], dtype=object)\n"
     ]
    }
   ],
   "source": [
    "controlWells=np.array(['H'+str(col) for col in range(2,12)])\n",
    "controlConcentrations= np.concatenate([plateInfo[allWells == well,wellmetaIdx == 'Concentration'] for well in controlWells])\n",
    "pprint(controlConcentrations)"
   ]
  },
  {
   "cell_type": "code",
   "execution_count": 134,
   "metadata": {},
   "outputs": [
    {
     "name": "stderr",
     "output_type": "stream",
     "text": [
      "/Users/shalin.mehta/miniconda3/envs/serocovid/lib/python3.7/site-packages/ipykernel_launcher.py:1: DeprecationWarning: string or file could not be read to its end due to unmatched data; this will raise a ValueError in the future.\n",
      "  \"\"\"Entry point for launching an IPython kernel.\n"
     ]
    }
   ],
   "source": [
    "concentrations=np.concatenate([np.fromstring(strconc, dtype=np.float32, sep=' ') for strconc in controlConcentrations])"
   ]
  },
  {
   "cell_type": "code",
   "execution_count": 182,
   "metadata": {},
   "outputs": [
    {
     "data": {
      "text/plain": [
       "Text(0, 0.5, 'mAb-biotin (nM)')"
      ]
     },
     "execution_count": 182,
     "metadata": {},
     "output_type": "execute_result"
    },
    {
     "data": {
      "image/png": "[encoded data removed]",
      "text/plain": [
       "<Figure size 720x720 with 1 Axes>"
      ]
     },
     "metadata": {
      "needs_background": "light"
     },
     "output_type": "display_data"
    }
   ],
   "source": [
    "plt.figure(figsize=(10,10))\n",
    "plt.plot(concentrations, lw=4, c='k')\n",
    "plt.xticks(ticks=np.arange(len(concentrations)),labels=controlWells); plt.xlabel('well'); plt.ylabel('mAb-biotin (nM)')"
   ]
  },
  {
   "cell_type": "markdown",
   "metadata": {},
   "source": [
    "## OD of xkappa-biotin should not change with concentration."
   ]
  },
  {
   "cell_type": "code",
   "execution_count": 183,
   "metadata": {},
   "outputs": [],
   "source": [
    "# Extract ODs across control wells and over all spots.\n",
    "xkappaOD=np.stack([ODwellbyantigen[wellIdx == well, antigenIdx == 'xkappa-biotin'] for well in controlWells])\n",
    "xkappaODMean=np.mean(xkappaOD, axis =1)"
   ]
  },
  {
   "cell_type": "code",
   "execution_count": 187,
   "metadata": {},
   "outputs": [
    {
     "data": {
      "image/png": "[encoded data removed]",
      "text/plain": [
       "<Figure size 720x720 with 1 Axes>"
      ]
     },
     "metadata": {
      "needs_background": "light"
     },
     "output_type": "display_data"
    }
   ],
   "source": [
    "plt.figure(figsize=(10,10))\n",
    "plt.plot(concentrations, xkappaODMean, lw=4, c='k')\n",
    "plt.ylim([1,2])\n",
    "plt.xlabel('mAb-biotin (nM)')\n",
    "plt.ylabel('OD (AU)')\n",
    "plt.title('OD vs fiducial (OD=1 is the same as background)');"
   ]
  },
  {
   "cell_type": "code",
   "execution_count": null,
   "metadata": {},
   "outputs": [],
   "source": [
    "## OD of GFP-foldon (-ve control) should be lower than fiducial and OD of xmouse-IgG (+ve control) should be higher than "
   ]
  }
 ],
 "metadata": {
  "kernelspec": {
   "display_name": "Python [conda env:serocovid]",
   "language": "python",
   "name": "conda-env-serocovid-py"
  },
  "language_info": {
   "codemirror_mode": {
    "name": "ipython",
    "version": 3
   },
   "file_extension": ".py",
   "mimetype": "text/x-python",
   "name": "python",
   "nbconvert_exporter": "python",
   "pygments_lexer": "ipython3",
   "version": "3.7.6"
  }
 },
 "nbformat": 4,
 "nbformat_minor": 4
}
