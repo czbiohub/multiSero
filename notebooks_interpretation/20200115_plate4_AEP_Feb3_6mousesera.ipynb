{
 "cells": [
  {
   "cell_type": "code",
   "execution_count": 1,
   "metadata": {},
   "outputs": [],
   "source": [
    "from pprint import pprint\n",
    "import pandas as pd\n",
    "import matplotlib.pyplot as plt\n",
    "import numpy as np"
   ]
  },
  {
   "cell_type": "markdown",
   "metadata": {},
   "source": [
    "# Experimental information"
   ]
  },
  {
   "cell_type": "markdown",
   "metadata": {},
   "source": [
    "*  xkappa biotin spots: these spots are coated with human kappa light chain conjugated to biotin, so that when the streptavidin-HRP is added there is strong signal independent of the serum content.  **We should not expect the fiducial signal to weaken with serial dilution.**\n",
    "*  anti-His tag spots: All of the recombinant proteins that are used to coat the plates have hexa-His tags cloned into them, and the coat protein in these spots is anti-His. In this experiment, all of the recombinant antigens were spotted here on the anti-His coated spot, then serum was added so that the spot is representative of a polyclonal response. There was more cross-reactivity than expected and **this control will not be used in the future covid plates.**"
   ]
  },
  {
   "cell_type": "markdown",
   "metadata": {},
   "source": [
    "# Data format conventions"
   ]
  },
  {
   "cell_type": "markdown",
   "metadata": {},
   "source": [
    "For ease of reading and manipulating data, all data is converted in $n$-dimensional arrays. \n",
    "* Well metadata is #wells $\\times$ 4 array. \n",
    "* antigen metadata is  #rows $\\times$ #columns in the array.\n",
    "* background corrected ODs is a 4D float array (Well row x Well column x Array row x Array column)."
   ]
  },
  {
   "cell_type": "markdown",
   "metadata": {},
   "source": [
    "# Read identity of wells and antigen spots in 2D arrays"
   ]
  },
  {
   "cell_type": "code",
   "execution_count": 35,
   "metadata": {},
   "outputs": [],
   "source": [
    "plateinfo_path=r'/Volumes/GoogleDrive/My Drive/ELISAarrayReader/images_scienion/Plates_given_to_manu/2020-01-15_plate4_AEP_Feb3_6mousesera/PlateInfo.csv'\n",
    "antigenOD_path=r'/Volumes/GoogleDrive/My Drive/ELISAarrayReader/images_scienion/Plates_given_to_manu/2020-01-15_plate4_AEP_Feb3_6mousesera/20200327_analyzedPlate/ODs_2020_327_258.xlsx'"
   ]
  },
  {
   "cell_type": "code",
   "execution_count": 36,
   "metadata": {},
   "outputs": [
    {
     "name": "stdout",
     "output_type": "stream",
     "text": [
      "   Well     Sera ID              Type  Dilution\n",
      "0    A1     Mouse 1        Diagnostic      1:50\n",
      "1    A2     Mouse 1        Diagnostic      1:50\n",
      "2    A3     Mouse 2        Diagnostic      1:50\n",
      "3    A4     Mouse 2        Diagnostic      1:50\n",
      "4    A5     Mouse 3        Diagnostic      1:50\n",
      "..  ...         ...               ...       ...\n",
      "91   H8  MAb-biotin  control/standard   0.41 nM\n",
      "92   H9  MAb-biotin  control/standard  0.136 nM\n",
      "93  H10  MAb-biotin  control/standard  0.045 nM\n",
      "94  H11  MAb-biotin  control/standard  0.015 nM\n",
      "95  H12         NaN               NaN       NaN\n",
      "\n",
      "[96 rows x 4 columns]\n",
      "array([['Mouse 1', 'Diagnostic', '1:50'],\n",
      "       ['Mouse 1', 'Diagnostic', '1:50'],\n",
      "       ['Mouse 2', 'Diagnostic', '1:50'],\n",
      "       ['Mouse 2', 'Diagnostic', '1:50'],\n",
      "       ['Mouse 3', 'Diagnostic', '1:50'],\n",
      "       ['Mouse 3', 'Diagnostic', '1:50'],\n",
      "       ['Mouse 4', 'Diagnostic', '1:50'],\n",
      "       ['Mouse 4', 'Diagnostic', '1:50'],\n",
      "       ['Mouse 5', 'Diagnostic', '1:50'],\n",
      "       ['Mouse 5', 'Diagnostic', '1:50'],\n",
      "       ['Mouse 6', 'Diagnostic', '1:50'],\n",
      "       ['Mouse 6', 'Diagnostic', '1:50'],\n",
      "       ['Mouse 1', 'Diagnostic', '1:250'],\n",
      "       ['Mouse 1', 'Diagnostic', '1:250'],\n",
      "       ['Mouse 2', 'Diagnostic', '1:250'],\n",
      "       ['Mouse 2', 'Diagnostic', '1:250'],\n",
      "       ['Mouse 3', 'Diagnostic', '1:250'],\n",
      "       ['Mouse 3', 'Diagnostic', '1:250'],\n",
      "       ['Mouse 4', 'Diagnostic', '1:250'],\n",
      "       ['Mouse 4', 'Diagnostic', '1:250'],\n",
      "       ['Mouse 5', 'Diagnostic', '1:250'],\n",
      "       ['Mouse 5', 'Diagnostic', '1:250'],\n",
      "       ['Mouse 6', 'Diagnostic', '1:250'],\n",
      "       ['Mouse 6', 'Diagnostic', '1:250'],\n",
      "       ['Mouse 1', 'Diagnostic', '1:1250'],\n",
      "       ['Mouse 1', 'Diagnostic', '1:1250'],\n",
      "       ['Mouse 2', 'Diagnostic', '1:1250'],\n",
      "       ['Mouse 2', 'Diagnostic', '1:1250'],\n",
      "       ['Mouse 3', 'Diagnostic', '1:1250'],\n",
      "       ['Mouse 3', 'Diagnostic', '1:1250'],\n",
      "       ['Mouse 4', 'Diagnostic', '1:1250'],\n",
      "       ['Mouse 4', 'Diagnostic', '1:1250'],\n",
      "       ['Mouse 5', 'Diagnostic', '1:1250'],\n",
      "       ['Mouse 5', 'Diagnostic', '1:1250'],\n",
      "       ['Mouse 6', 'Diagnostic', '1:1250'],\n",
      "       ['Mouse 6', 'Diagnostic', '1:1250'],\n",
      "       ['Mouse 1', 'Diagnostic', '1:6250'],\n",
      "       ['Mouse 1', 'Diagnostic', '1:6250'],\n",
      "       ['Mouse 2', 'Diagnostic', '1:6250'],\n",
      "       ['Mouse 2', 'Diagnostic', '1:6250'],\n",
      "       ['Mouse 3', 'Diagnostic', '1:6250'],\n",
      "       ['Mouse 3', 'Diagnostic', '1:6250'],\n",
      "       ['Mouse 4', 'Diagnostic', '1:6250'],\n",
      "       ['Mouse 4', 'Diagnostic', '1:6250'],\n",
      "       ['Mouse 5', 'Diagnostic', '1:6250'],\n",
      "       ['Mouse 5', 'Diagnostic', '1:6250'],\n",
      "       ['Mouse 6', 'Diagnostic', '1:6250'],\n",
      "       ['Mouse 6', 'Diagnostic', '1:6250'],\n",
      "       ['Mouse 1', 'Diagnostic', '1:31250'],\n",
      "       ['Mouse 1', 'Diagnostic', '1:31250'],\n",
      "       ['Mouse 2', 'Diagnostic', '1:31250'],\n",
      "       ['Mouse 2', 'Diagnostic', '1:31250'],\n",
      "       ['Mouse 3', 'Diagnostic', '1:31250'],\n",
      "       ['Mouse 3', 'Diagnostic', '1:31250'],\n",
      "       ['Mouse 4', 'Diagnostic', '1:31250'],\n",
      "       ['Mouse 4', 'Diagnostic', '1:31250'],\n",
      "       ['Mouse 5', 'Diagnostic', '1:31250'],\n",
      "       ['Mouse 5', 'Diagnostic', '1:31250'],\n",
      "       ['Mouse 6', 'Diagnostic', '1:31250'],\n",
      "       ['Mouse 6', 'Diagnostic', '1:31250'],\n",
      "       ['Mouse 1', 'Diagnostic', '1:156250'],\n",
      "       ['Mouse 1', 'Diagnostic', '1:156250'],\n",
      "       ['Mouse 2', 'Diagnostic', '1:156250'],\n",
      "       ['Mouse 2', 'Diagnostic', '1:156250'],\n",
      "       ['Mouse 3', 'Diagnostic', '1:156250'],\n",
      "       ['Mouse 3', 'Diagnostic', '1:156250'],\n",
      "       ['Mouse 4', 'Diagnostic', '1:156250'],\n",
      "       ['Mouse 4', 'Diagnostic', '1:156250'],\n",
      "       ['Mouse 5', 'Diagnostic', '1:156250'],\n",
      "       ['Mouse 5', 'Diagnostic', '1:156250'],\n",
      "       ['Mouse 6', 'Diagnostic', '1:156250'],\n",
      "       ['Mouse 6', 'Diagnostic', '1:156250'],\n",
      "       ['Mouse 1', 'Diagnostic', '1:781250'],\n",
      "       ['Mouse 1', 'Diagnostic', '1:781250'],\n",
      "       ['Mouse 2', 'Diagnostic', '1:781250'],\n",
      "       ['Mouse 2', 'Diagnostic', '1:781250'],\n",
      "       ['Mouse 3', 'Diagnostic', '1:781250'],\n",
      "       ['Mouse 3', 'Diagnostic', '1:781250'],\n",
      "       ['Mouse 4', 'Diagnostic', '1:781250'],\n",
      "       ['Mouse 4', 'Diagnostic', '1:781250'],\n",
      "       ['Mouse 5', 'Diagnostic', '1:781250'],\n",
      "       ['Mouse 5', 'Diagnostic', '1:781250'],\n",
      "       ['Mouse 6', 'Diagnostic', '1:781250'],\n",
      "       ['Mouse 6', 'Diagnostic', '1:781250'],\n",
      "       [nan, nan, nan],\n",
      "       ['MAb-biotin', 'control/standard', '300 nM'],\n",
      "       ['MAb-biotin', 'control/standard', '100 nM'],\n",
      "       ['MAb-biotin', 'control/standard', '33.3 nM'],\n",
      "       ['MAb-biotin', 'control/standard', '11.1 nM'],\n",
      "       ['MAb-biotin', 'control/standard', '3.7 nM'],\n",
      "       ['MAb-biotin', 'control/standard', '1.23 nM'],\n",
      "       ['MAb-biotin', 'control/standard', '0.41 nM'],\n",
      "       ['MAb-biotin', 'control/standard', '0.136 nM'],\n",
      "       ['MAb-biotin', 'control/standard', '0.045 nM'],\n",
      "       ['MAb-biotin', 'control/standard', '0.015 nM'],\n",
      "       [nan, nan, nan]], dtype=object)\n"
     ]
    }
   ],
   "source": [
    "plateinfo_dataframe=pd.read_csv(plateinfo_path)\n",
    "pprint(plateinfo_dataframe)\n",
    "platinfo=plateinfo_dataframe.to_numpy()[:,1:]\n",
    "pprint(platinfo)"
   ]
  },
  {
   "cell_type": "code",
   "execution_count": 37,
   "metadata": {},
   "outputs": [
    {
     "name": "stdout",
     "output_type": "stream",
     "text": [
      "array([['xkappa-biotin', '114', '100', 'KZ52', 'c13C6', 'c2G4', 'c4G7',\n",
      "        'xkappa-biotin'],\n",
      "       ['xkappa-biotin', '114', '100', 'KZ52', 'c13C6', 'c2G4', 'c4G7',\n",
      "        'xmouse-IgG'],\n",
      "       ['anti-HIS tag', '15731', '15742', '15750', '15878', '15946',\n",
      "        '15960', 'Q411'],\n",
      "       ['anti-HIS tag', '15731', '15742', '15750', '15878', '15946',\n",
      "        '15960', 'Q411'],\n",
      "       ['anti-HIS tag', '15974', '16061', 'FVM04', 'VIC122', 'Q206',\n",
      "        'Q314', 'GFP-foldon'],\n",
      "       ['xkappa-biotin', '15974', '16061', 'FVM04', 'VIC122', 'Q206',\n",
      "        'Q314', 'xkappa-biotin']], dtype=object)\n"
     ]
    }
   ],
   "source": [
    "converter = {col: str for col in range(0,7)}\n",
    "antigens_dataframe=pd.read_excel(antigenOD_path, sheet_name='antigens', converters=converter)\n",
    "antigens=antigens_dataframe.to_numpy()[:,1:] \n",
    "pprint(antigens)"
   ]
  },
  {
   "cell_type": "markdown",
   "metadata": {},
   "source": [
    "# Read ODs of all wells in a 4D array (Well row x Well column x Array row x Array column)"
   ]
  },
  {
   "cell_type": "markdown",
   "metadata": {},
   "source": [
    "## Read data"
   ]
  },
  {
   "cell_type": "code",
   "execution_count": 14,
   "metadata": {},
   "outputs": [],
   "source": [
    "row_label=['A','B','C','D','E','F','G','H']\n",
    "col_label=[str(idx) for idx in np.arange(12)+1]\n",
    "antigenOD=np.empty((8,12,6,8)) # 96 wells, 6 antigen rows, 8 antigen columns\n",
    "wellID=np.empty((8,12),dtype=object)"
   ]
  },
  {
   "cell_type": "code",
   "execution_count": 15,
   "metadata": {},
   "outputs": [],
   "source": [
    "# Read all wells into dictionary and into a 4D numpy array.\n",
    "for r in np.arange(8):\n",
    "    for c in np.arange(12):\n",
    "        well_key = row_label[r]+col_label[c]\n",
    "        antigenOD_dataframe=pd.read_excel(antigenOD_path, sheet_name=well_key)\n",
    "        antigenOD[r,c,:,:]=antigenOD_dataframe.to_numpy()[:,1:] # First column is simply the index. to_numpy returns 6x9 array.\n",
    "        wellID[r,c] = well_key"
   ]
  },
  {
   "cell_type": "markdown",
   "metadata": {},
   "source": [
    "## how to index the OD data."
   ]
  },
  {
   "cell_type": "markdown",
   "metadata": {},
   "source": [
    "#### direct indexing"
   ]
  },
  {
   "cell_type": "code",
   "execution_count": 19,
   "metadata": {},
   "outputs": [
    {
     "name": "stdout",
     "output_type": "stream",
     "text": [
      "array([[1.48690358,        nan, 1.88054858, 2.58605292, 1.28097541,\n",
      "        2.65749052, 1.4895249 , 1.55835905],\n",
      "       [1.46043415, 1.85433613, 2.27518306, 2.74934729, 1.43469453,\n",
      "        2.05008816, 1.69365441, 3.02854479],\n",
      "       [3.58943717, 1.60508459, 2.58859898, 1.26907949,        nan,\n",
      "        1.27786073, 1.82586891, 1.66100972],\n",
      "       [3.3421515 , 1.81320625, 2.73909223, 1.27429019, 2.60367051,\n",
      "               nan, 2.31202412, 1.60264153],\n",
      "       [3.43131823, 2.24281023, 3.27112586, 2.11036309, 2.43932369,\n",
      "        2.12406351,        nan, 4.61593211],\n",
      "       [1.46372823, 2.1719292 , 3.20397848, 2.05375365, 2.36963313,\n",
      "        2.01548414, 1.32053514, 1.4020999 ]])\n"
     ]
    }
   ],
   "source": [
    "pprint(antigenOD[0,0]) # Well A1"
   ]
  },
  {
   "cell_type": "code",
   "execution_count": 18,
   "metadata": {},
   "outputs": [
    {
     "name": "stdout",
     "output_type": "stream",
     "text": [
      "array([[       nan, 1.3451414 , 2.99774562,        nan, 1.29873839,\n",
      "               nan, 1.23414691, 1.61283121],\n",
      "       [1.44550936,        nan, 2.96651674, 1.26165007,        nan,\n",
      "               nan,        nan, 3.55750328],\n",
      "       [1.87884234, 1.28353302,        nan,        nan,        nan,\n",
      "               nan,        nan,        nan],\n",
      "       [1.93024336,        nan, 1.16157532,        nan,        nan,\n",
      "               nan,        nan,        nan],\n",
      "       [1.74705778,        nan,        nan,        nan, 1.1752757 ,\n",
      "               nan,        nan,        nan],\n",
      "       [1.44784659,        nan,        nan, 1.23790682,        nan,\n",
      "               nan,        nan, 1.40577401]])\n"
     ]
    }
   ],
   "source": [
    "pprint(antigenOD[0,3]) # well A4"
   ]
  },
  {
   "cell_type": "markdown",
   "metadata": {},
   "source": [
    "#### logical indexing"
   ]
  },
  {
   "cell_type": "code",
   "execution_count": 32,
   "metadata": {},
   "outputs": [
    {
     "name": "stdout",
     "output_type": "stream",
     "text": [
      "array([[[       nan, 1.3451414 , 2.99774562,        nan, 1.29873839,\n",
      "                nan, 1.23414691, 1.61283121],\n",
      "        [1.44550936,        nan, 2.96651674, 1.26165007,        nan,\n",
      "                nan,        nan, 3.55750328],\n",
      "        [1.87884234, 1.28353302,        nan,        nan,        nan,\n",
      "                nan,        nan,        nan],\n",
      "        [1.93024336,        nan, 1.16157532,        nan,        nan,\n",
      "                nan,        nan,        nan],\n",
      "        [1.74705778,        nan,        nan,        nan, 1.1752757 ,\n",
      "                nan,        nan,        nan],\n",
      "        [1.44784659,        nan,        nan, 1.23790682,        nan,\n",
      "                nan,        nan, 1.40577401]]])\n"
     ]
    }
   ],
   "source": [
    "pprint(antigenOD[wellID == 'A4'])"
   ]
  },
  {
   "cell_type": "code",
   "execution_count": 33,
   "metadata": {},
   "outputs": [
    {
     "name": "stdout",
     "output_type": "stream",
     "text": [
      "array([[[1.48690358,        nan, 1.88054858, 2.58605292, 1.28097541,\n",
      "         2.65749052, 1.4895249 , 1.55835905],\n",
      "        [1.46043415, 1.85433613, 2.27518306, 2.74934729, 1.43469453,\n",
      "         2.05008816, 1.69365441, 3.02854479],\n",
      "        [3.58943717, 1.60508459, 2.58859898, 1.26907949,        nan,\n",
      "         1.27786073, 1.82586891, 1.66100972],\n",
      "        [3.3421515 , 1.81320625, 2.73909223, 1.27429019, 2.60367051,\n",
      "                nan, 2.31202412, 1.60264153],\n",
      "        [3.43131823, 2.24281023, 3.27112586, 2.11036309, 2.43932369,\n",
      "         2.12406351,        nan, 4.61593211],\n",
      "        [1.46372823, 2.1719292 , 3.20397848, 2.05375365, 2.36963313,\n",
      "         2.01548414, 1.32053514, 1.4020999 ]]])\n"
     ]
    }
   ],
   "source": [
    "pprint(antigenOD[wellID == 'A1'])"
   ]
  },
  {
   "cell_type": "markdown",
   "metadata": {},
   "source": [
    "# Control wells."
   ]
  }
 ],
 "metadata": {
  "kernelspec": {
   "display_name": "Python [conda env:serocovid]",
   "language": "python",
   "name": "conda-env-serocovid-py"
  },
  "language_info": {
   "codemirror_mode": {
    "name": "ipython",
    "version": 3
   },
   "file_extension": ".py",
   "mimetype": "text/x-python",
   "name": "python",
   "nbconvert_exporter": "python",
   "pygments_lexer": "ipython3",
   "version": "3.7.6"
  }
 },
 "nbformat": 4,
 "nbformat_minor": 4
}
