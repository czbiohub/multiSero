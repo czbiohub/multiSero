{
 "cells": [
  {
   "cell_type": "code",
   "execution_count": 3,
   "metadata": {},
   "outputs": [],
   "source": [
    "from openpyxl import Workbook"
   ]
  },
  {
   "cell_type": "code",
   "execution_count": 35,
   "metadata": {},
   "outputs": [],
   "source": [
    "wb = Workbook()"
   ]
  },
  {
   "cell_type": "code",
   "execution_count": 39,
   "metadata": {},
   "outputs": [],
   "source": [
    "\"\"\"\n",
    "Create a new worksheet for the main spot report\n",
    "\"\"\"\n",
    "\n",
    "ws = wb.active\n",
    "ws.title = 'main spot report'"
   ]
  },
  {
   "cell_type": "code",
   "execution_count": 46,
   "metadata": {},
   "outputs": [],
   "source": [
    "# main report\n",
    "ws['A1'].value = 'Test configuration'\n",
    "ws['A2'].value = '<NAME OF EXPERIMENT HERE>'\n",
    "\n",
    "ws['A6'].value = 'Intensity (median, background corrected) [AU]'\n",
    "ws['A7'].value = 'ID'\n",
    "\n",
    "ws['B1'].value = 'Configuration version'\n",
    "ws['B2'].value = '1.0'\n",
    "\n",
    "# populating main report Column A\n",
    "NUM_SPOTS=48\n",
    "for r in range(11, 11+NUM_SPOTS):\n",
    "    _ = ws.cell(column=1, row=r, value=f\"SORTED SPOTS {r+1}\")"
   ]
  },
  {
   "cell_type": "code",
   "execution_count": null,
   "metadata": {},
   "outputs": [],
   "source": [
    "# DATA FILL FOR MAIN TAB\n",
    "# populate values based on the spot position\n",
    "ws['B7'].value = '<NAME OF IMAGE WELL HERE>' # (A1, A2, A3...)\n",
    "ws['B8'].value = 1\n",
    "\n",
    "for r in range(11, 11+NUM_SPOTS):\n",
    "    _ = ws.cell(column=2, row=r, value=f\"<DATA CORRESPONDING TO IMAGE WELL AND SPOT>\")"
   ]
  },
  {
   "cell_type": "code",
   "execution_count": 44,
   "metadata": {},
   "outputs": [],
   "source": [
    "# REPLICATES TAB\n",
    "ws2 = wb.create_sheet(title='Replicates')\n",
    "ws2['A1'].value = 'Intensity (median, background corrected) [AU]'\n",
    "ws2['A2'].value = 'ID'\n",
    "\n",
    "# populating replicates Column A\n",
    "NUM_ANTIGENS=48\n",
    "for r in range(6, 6+NUM_ANTIGENS):\n",
    "    _ = ws2.cell(column=1, row=r, value=f\"<NAMES OF ANTIGEN HERE>\")"
   ]
  },
  {
   "cell_type": "code",
   "execution_count": null,
   "metadata": {},
   "outputs": [],
   "source": [
    "# DATA FILL FOR REPLICATES TAB\n",
    "ws2['B2'].value = '<NAME OF IMAGE WELL HERE>' # (A1, A2, A3...)\n",
    "ws2['B3'].value = 1\n",
    "\n",
    "for r in range(6, 6+NUM_ANTIGENS):\n",
    "    _ = ws2.cell(column=2, row=r, value=f\"<DATA CORRESPONDING TO ANTIGEN AND WELL SPOT>\")"
   ]
  },
  {
   "cell_type": "code",
   "execution_count": null,
   "metadata": {},
   "outputs": [],
   "source": [
    "CELL_TO_CAT = {\n",
    "    'A1': 'ID',\n",
    "    'B1': 'X [µm]',\n",
    "    'C1': 'Y [µm]',\n",
    "    'D1': 'Result',\n",
    "    'E1': 'Intensity (median, background corrected) [AU]',\n",
    "    'F1': 'Analyte level (median) [U/ml]',\n",
    "    'G1': 'Diameter [µm]',\n",
    "    'H1': 'Area [µm²]',\n",
    "    'I1': 'Saturation',\n",
    "    'J1': 'Mean',\n",
    "    'K1': 'Median',\n",
    "    'L1': 'StdDev',\n",
    "    'M1': 'Min',\n",
    "    'N1': 'Max',\n",
    "    'O1': 'Background Mean',\n",
    "    'P1': 'Background Median',\n",
    "    'Q1': 'Background StdDev',\n",
    "    'R1': 'Background Min',\n",
    "    'S1': 'Background Max',\n",
    "}\n",
    "\n",
    "# WELL TAB (ex: A1, A2, ...)\n",
    "ws3 = wb.create_sheet(title='<WELL NAME>')\n",
    "ws3['A1'].value = 'ID'\n",
    "ws3['B1'].value = 'X [µm]'\n",
    "ws3['C1'].value = 'Y [µm]'\n",
    "ws3['D1'].value = 'Result'\n",
    "ws3['E1'].value = 'Intensity (median, background corrected) [AU]'\n",
    "ws3['F1'].value = 'Analyte level (median) [U/ml]'\n",
    "ws3['G1'].value = 'Diameter [µm]'\n",
    "ws3['H1'].value = 'Area [µm²]'\n",
    "ws3['I1'].value = 'Saturation'\n",
    "ws3['J1'].value = 'Mean'\n",
    "ws3['K1'].value = 'Median'\n",
    "ws3['L1'].value = 'StdDev'\n",
    "ws3['M1'].value = 'Min'\n",
    "ws3['N1'].value = 'Max'\n",
    "ws3['O1'].value = 'Background Mean'\n",
    "ws3['P1'].value = 'Background Median'\n",
    "ws3['Q1'].value = 'Background StdDev'\n",
    "ws3['R1'].value = 'Background Min'\n",
    "ws3['S1'].value = 'Background Max'\n",
    "\n",
    "# populating WELL TAB Column A\n",
    "NUM_SPOTS=48\n",
    "for r in range(2, 2+NUMSPOTS):\n",
    "    _ = ws3.cell(column=1, row=r, value=f\"<NAMES OF SPOT HERE>\")"
   ]
  },
  {
   "cell_type": "code",
   "execution_count": null,
   "metadata": {},
   "outputs": [],
   "source": [
    "# DATA FILL FOR WELL TAB\n",
    "inverted_map = {value,key for key, value in CELL_TO_CAT.items()}\n",
    "# todo: category to regionprop value\n",
    "\n",
    "for spotname in spotnames:\n",
    "    for cell, cat in CELL_TO_CAT.items():\n",
    "        # 1- call region_prop for array_index corresponding to this spotname\n",
    "        # 2- call category value from region_prop corresponding to 'cat'\n",
    "        # 3- assign cell value to called value from #2\n",
    "        ws2[cell].value = 0\n"
   ]
  },
  {
   "cell_type": "code",
   "execution_count": null,
   "metadata": {},
   "outputs": [],
   "source": [
    "# WELL TAB REPLICATE\n",
    "\n",
    "CELL_TO_CAT_REP = {\n",
    "    'A1': 'ID',\n",
    "    'B1': 'Result',\n",
    "    'C1': 'Intensity (median, background corrected) [AU]',\n",
    "    'D1': 'Analyte level (median) [U/ml]',\n",
    "    'E1': 'Mean',\n",
    "    'F1': 'Median',\n",
    "    'G1': 'Spots',\n",
    "}\n",
    "\n",
    "ws4 = wb.create_sheet(title='<WELL NAME REPLICATE>')\n",
    "ws4['A1'].value = 'ID'\n",
    "ws4['B1'].value = 'Result'\n",
    "ws4['C1'].value = 'Intensity (median, background corrected) [AU]'\n",
    "ws4['D1'].value = 'Analyte level (median) [U/ml]'\n",
    "ws4['E1'].value = 'Mean'\n",
    "ws4['F1'].value = 'Median'\n",
    "ws4['G1'].value = 'Spots'\n",
    "\n",
    "# COLUMNS FOR WELL TAB REPLICATE\n",
    "NUM_ANTIGENS\n",
    "for r in range(2, 2+NUM_ANTIGENS):\n",
    "    _ = ws4.cell(column=1, row=r, value=f\"<NAME OF ANTIGEN>\")"
   ]
  },
  {
   "cell_type": "code",
   "execution_count": null,
   "metadata": {},
   "outputs": [],
   "source": [
    "# DATA FILL WELL TAB REPLICATE \n",
    "\n",
    "for spotname in spotnames:\n",
    "    for cell, cat in CELL_TO_CAT_REP.items():\n",
    "        # 1- call region_prop for array_index corresponding to this spotname\n",
    "        # 2- call category value from region_prop corresponding to 'cat'\n",
    "        # 3- assign cell value to called value from #2\n",
    "        ws2[cell].value = 0"
   ]
  },
  {
   "cell_type": "code",
   "execution_count": null,
   "metadata": {},
   "outputs": [],
   "source": []
  },
  {
   "cell_type": "code",
   "execution_count": null,
   "metadata": {},
   "outputs": [],
   "source": []
  },
  {
   "cell_type": "code",
   "execution_count": 45,
   "metadata": {},
   "outputs": [],
   "source": [
    "wb.save('/Users/bryant.chhun/Desktop/Data/array-imager/test.xlsx')"
   ]
  },
  {
   "cell_type": "code",
   "execution_count": null,
   "metadata": {},
   "outputs": [],
   "source": []
  }
 ],
 "metadata": {
  "kernelspec": {
   "display_name": "Python 3",
   "language": "python",
   "name": "python3"
  },
  "language_info": {
   "codemirror_mode": {
    "name": "ipython",
    "version": 3
   },
   "file_extension": ".py",
   "mimetype": "text/x-python",
   "name": "python",
   "nbconvert_exporter": "python",
   "pygments_lexer": "ipython3",
   "version": "3.7.6"
  }
 },
 "nbformat": 4,
 "nbformat_minor": 4
}
